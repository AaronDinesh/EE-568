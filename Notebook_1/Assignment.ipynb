{
 "cells": [
  {
   "cell_type": "markdown",
   "id": "c869bafb",
   "metadata": {
    "ExecuteTime": {
     "end_time": "2023-03-14T00:56:45.145563Z",
     "start_time": "2023-03-14T00:56:42.879564Z"
    }
   },
   "source": [
    "# Exercise 1 for the class EE-568 Theory and Methods of Reinforcement Learning taught at EPFL in Spring 2024 by Prof. Volkan Cevher"
   ]
  },
  {
   "cell_type": "code",
   "execution_count": 2,
   "id": "0a0ab966",
   "metadata": {},
   "outputs": [],
   "source": [
    "import os\n",
    "from typing import List\n",
    "\n",
    "import numpy as np\n",
    "\n",
    "os.environ['KMP_DUPLICATE_LIB_OK'] = 'True'\n",
    "import sys\n",
    "\n",
    "sys.path.insert(0, \"src/\")\n",
    "from environment import GridWorldEnvironment\n",
    "from MDPsolver import MDPsolver\n",
    "from plot import plot_log_lines, plot_lines\n",
    "%load_ext autoreload\n",
    "%autoreload 2"
   ]
  },
  {
   "cell_type": "markdown",
   "id": "284733c0",
   "metadata": {},
   "source": [
    "# Dynamic Programming exercise"
   ]
  },
  {
   "cell_type": "markdown",
   "id": "24373bdd",
   "metadata": {},
   "source": [
    "We will make use of the operators introduced in the slides of lectures 1 and 2. \n",
    "$(T V)(s)$, $\\mathcal{G}$ and $T^{\\pi}$\n",
    "\n",
    "Before diving into the implementation of Value Iteration or Policy Iteration, we instantiate an environment using the library in the foilder `src`."
   ]
  },
  {
   "cell_type": "markdown",
   "id": "56a7da04",
   "metadata": {},
   "source": [
    "The gridworld environment is instantiated via the class `GridWorldEnvironment`. It takes 4 input values:\n",
    "\n",
    "- `reward_mode` : integer between 0 and 3 for different reward profiles\n",
    "- `size`: Gridworld size\n",
    "- `prop`: probability assigned to the event that the agent do not follow the chosen action but another one selected uniformely at random.\n",
    "- `gamma`: the discount factor of the environment."
   ]
  },
  {
   "cell_type": "code",
   "execution_count": 3,
   "id": "b61c70d2",
   "metadata": {
    "ExecuteTime": {
     "end_time": "2023-03-14T00:56:45.302563Z",
     "start_time": "2023-03-14T00:56:45.148567Z"
    }
   },
   "outputs": [],
   "source": [
    "reward_mode = 2 # put an image to show which is the reward\n",
    "size = 10 \n",
    "prop = 0\n",
    "gamma=0.99 # rename discount_factor\n",
    "gridworld = GridWorldEnvironment(reward_mode, size, prop=0, gamma=gamma)"
   ]
  },
  {
   "cell_type": "markdown",
   "id": "3a204d2f",
   "metadata": {},
   "source": [
    "Below, we illustrate how to access the gridworld environment, i.e. how to access the reward, the transition matrix and the discount factor."
   ]
  },
  {
   "cell_type": "code",
   "execution_count": 4,
   "id": "6bea31a5",
   "metadata": {
    "ExecuteTime": {
     "end_time": "2023-03-14T00:56:45.429564Z",
     "start_time": "2023-03-14T00:56:45.303598Z"
    }
   },
   "outputs": [
    {
     "name": "stdout",
     "output_type": "stream",
     "text": [
      "9\n",
      "4\n",
      "[[   0.    0.    0.    0.]\n",
      " [  -1.   -1.   -1.   -1.]\n",
      " [  -1.   -1.   -1.   -1.]\n",
      " [  -1.   -1.   -1.   -1.]\n",
      " [-100. -100. -100. -100.]\n",
      " [  -1.   -1.   -1.   -1.]\n",
      " [  -1.   -1.   -1.   -1.]\n",
      " [  -1.   -1.   -1.   -1.]\n",
      " [  -1.   -1.   -1.   -1.]]\n",
      "0.99\n",
      "<class 'scipy.sparse._csr.csr_matrix'>   (0, 0)\t1.0\n",
      "  (1, 1)\t1.0\n",
      "  (2, 2)\t1.0\n",
      "  (3, 0)\t1.0\n",
      "  (4, 1)\t1.0\n",
      "  (5, 2)\t1.0\n",
      "  (6, 3)\t1.0\n",
      "  (7, 4)\t1.0\n",
      "  (8, 5)\t1.0\n"
     ]
    }
   ],
   "source": [
    "size = 3\n",
    "gridworld_example = GridWorldEnvironment(reward_mode, size, prop=0, gamma=gamma)\n",
    "print(gridworld_example.n_states)\n",
    "print(gridworld_example.n_actions)\n",
    "print(gridworld_example.r)\n",
    "print(gridworld_example.gamma)\n",
    "print(type(gridworld_example.sparseT[0]), gridworld_example.sparseT[0])"
   ]
  },
  {
   "cell_type": "markdown",
   "id": "875607fb",
   "metadata": {},
   "source": [
    "***Interface with a Gridworld instance***\n",
    "- `print(gridworld.n_states)` #return the number of states\n",
    "- `print(gridworld.n_actions)` #return the number of actions\n",
    "- `print(gridworld.r)` #return a matrix where each element indicates the reward corresponding to each (state, action) pair.\n",
    "- `print(gridworld.gamma)` # return the discount factor\n",
    "- `print(gridworld.sparseT[action])` #Input: action, Return: a matrix containing the state-to-state transition probabilities for the action passed as input.\n",
    "\n"
   ]
  },
  {
   "cell_type": "markdown",
   "id": "88945c56",
   "metadata": {},
   "source": [
    "<img src=\"src/vis_gridworld.png\" alt=\"fishy\" class=\"bg-primary\" width=\"400px\">"
   ]
  },
  {
   "cell_type": "markdown",
   "id": "99553e09",
   "metadata": {},
   "source": [
    "Then we set up the solver object that will implement the routine needed to evaluate the value of the produced policies"
   ]
  },
  {
   "cell_type": "code",
   "execution_count": 5,
   "id": "4a8aea9b",
   "metadata": {
    "ExecuteTime": {
     "end_time": "2023-03-14T00:56:45.570566Z",
     "start_time": "2023-03-14T00:56:45.431568Z"
    }
   },
   "outputs": [],
   "source": [
    "solver = MDPsolver(gridworld)"
   ]
  },
  {
   "cell_type": "markdown",
   "id": "5d5bd704",
   "metadata": {},
   "source": [
    "We will use this solver to compute the optimal value function to measure the suboptimality of the policies produced by value iteration or policy iteration.\n",
    "\n",
    "To access the optimal value function use `solver.v`."
   ]
  },
  {
   "cell_type": "code",
   "execution_count": 6,
   "id": "48b77426",
   "metadata": {
    "ExecuteTime": {
     "end_time": "2023-03-14T00:56:45.681600Z",
     "start_time": "2023-03-14T00:56:45.571564Z"
    }
   },
   "outputs": [],
   "source": [
    "solver.value_iteration()"
   ]
  },
  {
   "cell_type": "markdown",
   "id": "b20dbd17",
   "metadata": {},
   "source": [
    "## Ex 1: Value Iteration [25 pts.]"
   ]
  },
  {
   "cell_type": "markdown",
   "id": "b7d9a1d4",
   "metadata": {},
   "source": [
    "### 1.1 Implement value iteration"
   ]
  },
  {
   "cell_type": "code",
   "execution_count": 7,
   "id": "03b8030d",
   "metadata": {
    "ExecuteTime": {
     "end_time": "2023-03-14T00:56:45.809598Z",
     "start_time": "2023-03-14T00:56:45.682600Z"
    }
   },
   "outputs": [],
   "source": [
    "def value_iteration(env, tol=1e-10):\n",
    "    \"\"\"Inplementation of value iteration, note that the implementation is based on value iteration mentioned in the lecture.\n",
    "    Args:\n",
    "        env: environment\n",
    "        tol: a scalar to dermerminate whether the algorithm convergences\n",
    "    Returns:\n",
    "        policies: policy  at each iteration (list)\n",
    "        vs: value functions at each iteration (list)\n",
    "    \"\"\"\n",
    "    policies = []\n",
    "    vs = []\n",
    "    v = np.zeros(env.n_states) # initialize value function\n",
    "    q = np.zeros((env.n_states, env.n_actions)) #initialize Q-value\n",
    "    \n",
    "    while True:\n",
    "        v_old = np.copy(v) # save a copy of value function for the convergence criterion at the step\n",
    "        for a in range(env.n_actions):\n",
    "            #Calculate the Q-value according to the State-Action Value Function\n",
    "            q[:, a] = env.r[:, a] + env.gamma * env.sparseT[a].dot(v_old) # calculate Q-value\n",
    "        #We can calculate the optimal value function by taking the maximum Q-value\n",
    "        #This comes from the Bellman Optimality Condition \n",
    "        v = np.max(q, axis=1) # update value function\n",
    "        #THis again comes from the Bellman Optimality Condition. We find the policy by taking the \n",
    "        #argmax of Q over the actions. (ie the greedy policy).\n",
    "        #At the fixed point we should not move away from the optimal policy even if we take greedy\n",
    "        #actions and so we can do this.\n",
    "        policies.append(np.argmax(q, axis=1)) # obtain policy\n",
    "        vs.append(v)\n",
    "        if np.linalg.norm(v - v_old) < tol: # convergence criterion\n",
    "            break\n",
    "    return policies, vs"
   ]
  },
  {
   "cell_type": "code",
   "execution_count": 8,
   "id": "a39f557a",
   "metadata": {
    "ExecuteTime": {
     "end_time": "2023-03-14T00:56:45.936564Z",
     "start_time": "2023-03-14T00:56:45.810566Z"
    }
   },
   "outputs": [],
   "source": [
    "policies, vs = value_iteration(gridworld)"
   ]
  },
  {
   "cell_type": "markdown",
   "id": "88fd23d2",
   "metadata": {},
   "source": [
    "### 1.2: Evaluate the extracted policies"
   ]
  },
  {
   "cell_type": "markdown",
   "id": "db59f231",
   "metadata": {},
   "source": [
    "For the evaluation of the sequence of policies, i.e. computing $V^\\pi$ for each policy $\\pi$ we recall that $V^\\pi$ is the fixed point $V^\\pi = T^\\pi (V^\\pi)$.\n",
    "In the following code, we ask you to apply the operator $T^\\pi$ a number of time sufficient to find a value $V$ such that $ || T^\\pi(V) - V || \\leq \\mathrm{tol}$"
   ]
  },
  {
   "cell_type": "code",
   "execution_count": 9,
   "id": "4407d9b2",
   "metadata": {
    "ExecuteTime": {
     "end_time": "2023-03-14T00:56:46.078567Z",
     "start_time": "2023-03-14T00:56:45.937566Z"
    }
   },
   "outputs": [],
   "source": [
    "def evaluate_policy_sequence(policies, env, tol=1e-10):\n",
    "    \"\"\"Inplementation of policy evaluation through iteratively applying policy value iteration \n",
    "    Args:\n",
    "        policies: a list of policies obtained by section 1.1\n",
    "        env: environment\n",
    "        tol: a scalar to dermerminate whether the policy evaluation convergences\n",
    "    Returns:\n",
    "        values: a list of value function for each policy\n",
    "    \"\"\"\n",
    "    values = []\n",
    "    for pi in policies:\n",
    "        v = np.zeros(env.n_states) # initialize value function\n",
    "        q = np.zeros((env.n_states, env.n_actions)) #initialize Q-value\n",
    "        while True:\n",
    "            v_old = np.copy(v) # save a copy of value function for the convergence criterion at the step\n",
    "            for a in range(env.n_actions):\n",
    "                q[:, a] = env.r[:, a] + env.gamma*env.sparseT[a].dot(v_old) #calculate Q-value\n",
    "            for s in range(env.n_states):\n",
    "                action_taken = pi[s] # obtain the action determined by the policy\n",
    "                v[s] = q[s,action_taken] #calculate value function by $v(s) = Q(s,pi(s))$\n",
    "            if np.linalg.norm(v - v_old) < tol: # convergence criterion\n",
    "                break\n",
    "        values.append(v)\n",
    "    return values"
   ]
  },
  {
   "cell_type": "code",
   "execution_count": 10,
   "id": "87b7f040",
   "metadata": {
    "ExecuteTime": {
     "end_time": "2023-03-14T00:56:48.241600Z",
     "start_time": "2023-03-14T00:56:46.083566Z"
    }
   },
   "outputs": [
    {
     "name": "stdout",
     "output_type": "stream",
     "text": [
      "The number of policies iterated on: 21\n",
      "The length of values: 21\n",
      "The length of an element of values: 100\n"
     ]
    }
   ],
   "source": [
    "print(f\"The number of policies iterated on: {len(policies)}\")\n",
    "values = evaluate_policy_sequence(policies, gridworld)\n",
    "print(f\"The length of values: {len(values)}\")\n",
    "print(f\"The length of an element of values: {len(values[0])}\")"
   ]
  },
  {
   "cell_type": "markdown",
   "id": "a331466c",
   "metadata": {},
   "source": [
    "### 1.3: Plot the results "
   ]
  },
  {
   "cell_type": "markdown",
   "id": "3fcf9844",
   "metadata": {},
   "source": [
    "Plot using the method ```plot_lines(list_to_plot, list_name, axis_label, folder, title, x_axis = None, show = False) ```\n",
    "\n",
    "Compute both the iterates $V_t$ produced by value iteration and the value function achieved by the extracted policies $V^{\\pi_t}$ with $\\pi_t = \\mathcal{G}(V_t)$. What do you observe ?\n"
   ]
  },
  {
   "cell_type": "code",
   "execution_count": 11,
   "id": "03a72635",
   "metadata": {
    "ExecuteTime": {
     "end_time": "2023-03-14T00:56:48.384121Z",
     "start_time": "2023-03-14T00:56:48.244565Z"
    }
   },
   "outputs": [],
   "source": [
    "def compute_subopt(values, v_star):\n",
    "    \"\"\"\n",
    "    Args:\n",
    "        values: a list of value function.\n",
    "        v_star: the optimal value function obtained by MDP.solver\n",
    "    Returns:\n",
    "        subopts: an array indicates the suboptimality.\n",
    "    \"\"\"\n",
    "    subopts = []\n",
    "    for v in values:\n",
    "        i = np.argmax(np.abs(v - v_star))\n",
    "        subopts.append(-v[i] + v_star[i])\n",
    "    return np.array(subopts)"
   ]
  },
  {
   "cell_type": "code",
   "execution_count": 12,
   "id": "714046c3",
   "metadata": {
    "ExecuteTime": {
     "end_time": "2023-03-14T00:56:48.969703Z",
     "start_time": "2023-03-14T00:56:48.386122Z"
    }
   },
   "outputs": [
    {
     "data": {
      "image/png": "[encoded data removed]",
      "text/plain": [
       "<Figure size 800x550 with 1 Axes>"
      ]
     },
     "metadata": {},
     "output_type": "display_data"
    }
   ],
   "source": [
    "plot_lines([compute_subopt(vs, solver.v)], [r\"Subopt of $V^t$\"], [\"Iteration\", \"Subopt\"], \"figs\", \"VI.pdf\", show = True)"
   ]
  },
  {
   "cell_type": "markdown",
   "id": "49ddd875",
   "metadata": {},
   "source": [
    "**Question** : \n",
    "- Prove that $T$ is a contraction, that is $|| T(V) - T(V') ||_{\\infty} \\leq \\gamma || V - V' ||_{\\infty}$.\n",
    "- Why the iterates of Value Iterations are an upper bound to $V^\\star$ ? How is this possible considering that $V^\\star \\triangleq \\max_{\\pi \\in \\Pi} V^{\\pi}$ ?"
   ]
  },
  {
   "cell_type": "markdown",
   "id": "706ce2d7",
   "metadata": {},
   "source": [
    "**Answers**"
   ]
  },
  {
   "cell_type": "markdown",
   "id": "3febb059",
   "metadata": {},
   "source": [
    "We will now prove that the Bellman operator $\\mathcal{T}$ is a $\\gamma$-contraction operator. We begin with any two values functions $V$ and $V^\\prime$ and set up the equation:\n",
    "$$\n",
    "\\begin{align*}\n",
    "    \\left | (\\mathcal{T}V)(s) - \\mathcal{T}V^{\\prime}(s) \\right |\n",
    "\\end{align*}\n",
    "$$\n",
    "Next we substitute the definition of the Bellman operator into the equation above to get:\n",
    "\n",
    "$$\n",
    "\\begin{align*}\n",
    "    \\left | \\underset{a \\in \\mathcal{A}}{\\operatorname{max}}\\left \\{ \\left[ r(s, a) + \\gamma \\sum_{s^{\\prime} \\in \\mathcal{S}} P(s^{\\prime} | s, a)V(s^{\\prime}) \\right ] \\right\\}  - \\underset{a^{\\prime} \\in \\mathcal{A}}{\\operatorname{max}}\\left \\{ \\left [ r(s, a^{\\prime}) + \\gamma \\sum_{s^{\\prime} \\in \\mathcal{S}} P(s^{\\prime}|s, a))V^{\\prime}(s^{\\prime}) \\right ] \\right \\} \\right |\n",
    "\\end{align*}\n",
    "$$\n",
    "\n",
    "Since we are maximising over the same set of actions we can make use of this inequality for the max function:\n",
    "$$\n",
    "\\left | \\underset{x \\in \\mathcal{X}}{\\operatorname{max}}\\{ f(x) \\} - \\underset{x \\in \\mathcal{X}}{\\operatorname{max}}\\{ g(x) \\}    \\right | \\leq \\underset{x \\in \\mathcal{X}}{\\operatorname{max}}\\{\\left | f(x) - g(x)\\right | \\}\n",
    "$$\n",
    "\n",
    "Applying this to the equation above we get:\n",
    "$$\n",
    "\\begin{align*}\n",
    "    &\\underset{a \\in \\mathcal{A}}{\\operatorname{max}}\\left \\{ \\left | r(s, a) + \\gamma \\sum_{s^{\\prime} \\in \\mathcal{S}} P(s^{\\prime}| s, a)V(s^{\\prime}) - r(s, a) - \\gamma \\sum_{s^{\\prime} \\in \\mathcal{S}}P(s^{\\prime}| s, a)V^{\\prime}(s^{\\prime}) \\right | \\right \\} \\\\\n",
    "    &=\\underset{a \\in \\mathcal{A}}{\\operatorname{max}}\\left\\{ \\left | \\gamma\\sum_{s^{\\prime} \\in \\mathcal{S}}P(s^{\\prime}|s, a) (V(s^{\\prime}) - V^{\\prime}(s^{\\prime})) \\right | \\right\\}\\\\\n",
    "    &\\leq \\underset{a \\in \\mathcal{A}}{\\operatorname{max}}\\left\\{\\gamma\\sum_{s^{\\prime} \\in \\mathcal{S}}P(s^{\\prime}|s, a) \\left | V(s^{\\prime}) - V^{\\prime}(s^{\\prime}) \\right | \\right\\} \\\\\n",
    "    &\\leq \\underset{a \\in \\mathcal{A}}{\\operatorname{max}}\\left\\{\\gamma\\sum_{s^{\\prime} \\in \\mathcal{S}}P(s^{\\prime}|s, a) \\sum_{s^{\\prime} \\in \\mathcal{S}} \\left | V(s^{\\prime}) - V^{\\prime}(s^{\\prime}) \\right | \\right\\} \\\\\n",
    "    &\\leq \\underset{a \\in \\mathcal{A}}{\\operatorname{max}}\\left\\{\\gamma\\sum_{s^{\\prime} \\in \\mathcal{S}}P(s^{\\prime}|s, a) \\right\\} \\operatorname{max}\\left\\{\\sum_{s^{\\prime} \\in \\mathcal{S}} \\left | V(s^{\\prime}) - V^{\\prime}(s^{\\prime}) \\right | \\right\\} \\\\\n",
    "    &\\leq \\underset{a \\in \\mathcal{A}}{\\operatorname{max}}\\left\\{\\gamma\\sum_{s^{\\prime} \\in \\mathcal{S}}P(s^{\\prime}|s, a) \\right\\} \\lVert V(s^{\\prime}) - V^{\\prime}(s^{\\prime}) \\rVert_{\\infty} \\\\\n",
    "    &=\\gamma \\lVert V(s^{\\prime}) - V^{\\prime}(s^{\\prime}) \\rVert\n",
    "\\end{align*}\n",
    "$$\n",
    "Since $\\gamma \\in [0, 1]$ we have that the Bellman operator is a contraction operator.\n",
    "\n",
    "\n",
    "# FIX THE PROOF BELOW\n",
    "To answer the second question be begin by noticing that the Bellman operator is component-wise monotonic, that is to say if $V \\leq V^{\\prime}$ then $\\mathcal{T}V \\leq \\mathcal{T}V^{\\prime}$. If we start with a $V_{0}$ that is higher than $V^{\\star}$ which is our optimal then we will approach $V^{\\star}$ from above meaning that value iteration is an upper bound to $V^{\\star}$\n"
   ]
  },
  {
   "cell_type": "code",
   "execution_count": 13,
   "id": "514d0662",
   "metadata": {
    "ExecuteTime": {
     "end_time": "2023-03-14T00:56:49.239768Z",
     "start_time": "2023-03-14T00:56:48.970703Z"
    }
   },
   "outputs": [
    {
     "data": {
      "image/png": "[encoded data removed]",
      "text/plain": [
       "<Figure size 800x550 with 1 Axes>"
      ]
     },
     "metadata": {},
     "output_type": "display_data"
    }
   ],
   "source": [
    "plot_lines([compute_subopt(values, solver.v)], [\"Subopt of $V^{\\pi_t}$\"], [\"Iteration\", \"Subopt\"], \"figs\", \"VI.pdf\", show = True)"
   ]
  },
  {
   "cell_type": "markdown",
   "id": "a424696f",
   "metadata": {},
   "source": [
    "To better appreciate the difference in the convergence plot use log scale."
   ]
  },
  {
   "cell_type": "code",
   "execution_count": 14,
   "id": "bdd6b924",
   "metadata": {
    "ExecuteTime": {
     "end_time": "2023-03-14T00:56:49.747688Z",
     "start_time": "2023-03-14T00:56:49.240768Z"
    }
   },
   "outputs": [
    {
     "data": {
      "image/png": "[encoded data removed]",
      "text/plain": [
       "<Figure size 800x550 with 1 Axes>"
      ]
     },
     "metadata": {},
     "output_type": "display_data"
    }
   ],
   "source": [
    "plot_log_lines([-compute_subopt(vs, solver.v), compute_subopt(values, solver.v)], \n",
    "               [r\"Subopt of $V^t$\", \"Subopt of $V^{\\pi_t}$\"], \n",
    "               [\"Iteration\", \"Subopt\"], \"figs\", \"VI.pdf\", show = True)"
   ]
  },
  {
   "cell_type": "markdown",
   "id": "9855f75c",
   "metadata": {},
   "source": [
    "# Ex 2: Policy Iteration [25 pts.] (Double check the implimentations of these functions)"
   ]
  },
  {
   "cell_type": "code",
   "execution_count": 31,
   "id": "5f785a42",
   "metadata": {
    "ExecuteTime": {
     "end_time": "2023-03-14T00:56:49.875724Z",
     "start_time": "2023-03-14T00:56:49.749686Z"
    }
   },
   "outputs": [],
   "source": [
    "def evaluate_policy(pi, env, tol=1e-10):\n",
    "    \"\"\"Implementation of policy evaluation through iteratively applying using a certain policy \n",
    "    Args:\n",
    "        pi: a policy\n",
    "        env: environment\n",
    "        tol: a scalar to dermerminate whether the policy evaluation convergences\n",
    "    Returns:\n",
    "        v: an array with the values of the actions chosen\n",
    "        q: an array with the q values    \n",
    "    \"\"\"\n",
    "    v = np.zeros(env.n_states)\n",
    "    q = np.zeros((env.n_states, env.n_actions))\n",
    "    while True:\n",
    "        v_old = np.copy(v)\n",
    "        for a in range(env.n_actions):\n",
    "            q[:, a] = env.r[:, a] + gamma*env.sparseT[a].dot(v_old)\n",
    "        for s in range(env.n_states):\n",
    "            v[s] = q[s, pi[s]]\n",
    "        if np.linalg.norm(v - v_old) < tol:\n",
    "            break\n",
    "    return v, q"
   ]
  },
  {
   "cell_type": "code",
   "execution_count": 32,
   "id": "8028d769",
   "metadata": {
    "ExecuteTime": {
     "end_time": "2023-03-14T00:56:49.987685Z",
     "start_time": "2023-03-14T00:56:49.877686Z"
    }
   },
   "outputs": [],
   "source": [
    "def get_greedy_policy(q):\n",
    "    \"\"\"Implementation of a greedy approach to choose policies (policy improvement)\n",
    "    Args:\n",
    "        q: q values obtained from evaluating the policies\n",
    "    Returns:\n",
    "        policy: greedy policy (list)\n",
    "    \"\"\"\n",
    "    policy = []\n",
    "    for s in range(q.shape[0]):\n",
    "        policy.append(np.argmax(q[s, :]))\n",
    "    return policy"
   ]
  },
  {
   "cell_type": "code",
   "execution_count": null,
   "id": "713b45cf",
   "metadata": {
    "ExecuteTime": {
     "end_time": "2023-03-14T00:56:50.126686Z",
     "start_time": "2023-03-14T00:56:49.988685Z"
    }
   },
   "outputs": [],
   "source": [
    "def policy_iteration(env, tol=1e-20):\n",
    "    \"\"\"Implementation of policy iteration\n",
    "    Args:\n",
    "        env: environment\n",
    "        tol: a scalar to dermerminate whether the algorithm convergences\n",
    "    Returns:\n",
    "        vs: value functions at each iteration (list)\n",
    "    \"\"\"\n",
    "    vs = []\n",
    "    v = np.zeros(env.n_states)\n",
    "    q = np.zeros((env.n_states, env.n_actions))\n",
    "    pi = np.zeros(env.n_states, dtype=int)\n",
    "    while True:\n",
    "        v_old = np.copy(v)\n",
    "        v, q = evaluate_policy(pi, env, tol)\n",
    "        pi = get_greedy_policy(q)\n",
    "        vs.append(v)\n",
    "        if np.linalg.norm(v - v_old) < tol:\n",
    "            break\n",
    "    return vs, pi"
   ]
  },
  {
   "cell_type": "code",
   "execution_count": null,
   "id": "00c7756a",
   "metadata": {
    "ExecuteTime": {
     "end_time": "2023-03-14T00:56:52.159688Z",
     "start_time": "2023-03-14T00:56:50.128686Z"
    }
   },
   "outputs": [
    {
     "name": "stdout",
     "output_type": "stream",
     "text": [
      "[array([   0.        , -100.        , -100.        , -100.        ,\n",
      "       -100.        , -100.        , -100.        , -100.        ,\n",
      "       -100.        , -100.        ,   -1.        , -100.        ,\n",
      "       -100.        , -100.        , -199.        , -199.        ,\n",
      "       -100.        , -100.        , -100.        , -100.        ,\n",
      "         -1.99      , -100.        , -100.        , -100.        ,\n",
      "       -297.01      , -297.01      , -100.        , -100.        ,\n",
      "       -100.        , -100.        ,   -2.9701    , -100.        ,\n",
      "       -100.        , -100.        , -394.0399    , -394.0399    ,\n",
      "       -100.        , -100.        , -100.        , -100.        ,\n",
      "         -3.940399  , -199.        , -199.        , -199.        ,\n",
      "       -490.099501  , -490.099501  , -199.        , -199.        ,\n",
      "       -199.        , -100.        ,   -4.90099501, -297.01      ,\n",
      "       -297.01      , -297.01      , -585.19850599, -585.19850599,\n",
      "       -297.01      , -297.01      , -297.01      , -100.        ,\n",
      "         -5.85198506, -295.0399    , -295.0399    , -295.0399    ,\n",
      "       -679.34652093, -679.34652093, -295.0399    , -295.0399    ,\n",
      "       -295.0399    , -100.        ,   -6.79346521, -293.089501  ,\n",
      "       -293.089501  , -293.089501  , -772.55305572, -772.55305572,\n",
      "       -293.089501  , -293.089501  , -293.089501  , -100.        ,\n",
      "         -7.72553056, -291.15860599, -291.15860599, -291.15860599,\n",
      "       -864.82752516, -864.82752516, -291.15860599, -291.15860599,\n",
      "       -291.15860599, -100.        ,   -8.64827525, -289.24701993,\n",
      "       -289.24701993, -289.24701993, -857.17924991, -857.17924991,\n",
      "       -289.24701993, -289.24701993, -289.24701993, -100.        ]), array([   0.        ,   -1.        , -100.        , -100.        ,\n",
      "       -100.        , -100.        , -100.        , -100.        ,\n",
      "       -100.        , -100.        ,   -1.        ,   -1.99      ,\n",
      "       -100.        , -100.        , -199.        , -199.        ,\n",
      "       -100.        , -100.        , -100.        , -100.        ,\n",
      "         -1.99      ,   -2.9701    , -100.        , -100.        ,\n",
      "       -199.        , -199.        , -100.        , -100.        ,\n",
      "       -100.        , -100.        ,   -2.9701    ,   -3.940399  ,\n",
      "       -100.        , -100.        , -199.        , -199.        ,\n",
      "       -100.        , -100.        , -100.        , -100.        ,\n",
      "         -3.940399  , -103.90099501, -199.        , -199.        ,\n",
      "       -297.01      , -297.01      , -199.        , -199.        ,\n",
      "       -199.        , -100.        ,   -4.90099501, -104.85198506,\n",
      "       -297.01      , -297.01      , -394.0399    , -394.0399    ,\n",
      "       -297.01      , -297.01      , -199.        , -100.        ,\n",
      "         -5.85198506,   -6.79346521, -100.        , -100.        ,\n",
      "       -199.        , -199.        , -100.        , -100.        ,\n",
      "       -100.        , -100.        ,   -6.79346521,   -7.72553056,\n",
      "       -100.        , -100.        , -199.        , -199.        ,\n",
      "       -100.        , -100.        , -100.        , -100.        ,\n",
      "         -7.72553056,   -8.64827525, -100.        , -100.        ,\n",
      "       -199.        , -199.        , -100.        , -100.        ,\n",
      "       -100.        , -100.        ,   -8.64827525,   -9.5617925 ,\n",
      "       -100.        , -100.        , -100.        , -100.        ,\n",
      "       -100.        , -100.        , -100.        , -100.        ]), array([   0.        ,   -1.        ,   -1.99      , -100.        ,\n",
      "       -100.        , -100.        , -100.        , -100.        ,\n",
      "       -100.        , -100.        ,   -1.        ,   -1.99      ,\n",
      "         -2.9701    , -100.        , -199.        , -199.        ,\n",
      "       -100.        , -100.        , -100.        , -100.        ,\n",
      "         -1.99      ,   -2.9701    ,   -3.940399  , -100.        ,\n",
      "       -199.        , -199.        , -100.        , -100.        ,\n",
      "       -100.        , -100.        ,   -2.9701    ,   -3.940399  ,\n",
      "         -4.90099501, -100.        , -199.        , -199.        ,\n",
      "       -100.        , -100.        , -100.        , -100.        ,\n",
      "         -3.940399  , -103.90099501, -104.85198506, -199.        ,\n",
      "       -297.01      , -297.01      , -199.        , -199.        ,\n",
      "       -199.        , -100.        ,   -4.90099501, -104.85198506,\n",
      "       -107.64827525, -199.        , -297.01      , -297.01      ,\n",
      "       -199.        , -199.        , -199.        , -100.        ,\n",
      "         -5.85198506,   -6.79346521,   -7.72553056, -100.        ,\n",
      "       -199.        , -199.        , -100.        , -100.        ,\n",
      "       -100.        , -100.        ,   -6.79346521,   -7.72553056,\n",
      "         -8.64827525, -100.        , -199.        , -199.        ,\n",
      "       -100.        , -100.        , -100.        , -100.        ,\n",
      "         -7.72553056,   -8.64827525,   -9.5617925 , -100.        ,\n",
      "       -199.        , -199.        , -100.        , -100.        ,\n",
      "       -100.        , -100.        ,   -8.64827525,   -9.5617925 ,\n",
      "        -10.46617457, -100.        , -100.        , -100.        ,\n",
      "       -100.        , -100.        , -100.        , -100.        ]), array([   0.        ,   -1.        ,   -1.99      ,   -2.9701    ,\n",
      "       -100.        , -100.        , -100.        , -100.        ,\n",
      "       -100.        , -100.        ,   -1.        ,   -1.99      ,\n",
      "         -2.9701    ,   -3.940399  , -199.        , -199.        ,\n",
      "       -100.        , -100.        , -100.        , -100.        ,\n",
      "         -1.99      ,   -2.9701    ,   -3.940399  ,   -4.90099501,\n",
      "       -104.85198506, -199.        , -100.        , -100.        ,\n",
      "       -100.        , -100.        ,   -2.9701    ,   -3.940399  ,\n",
      "         -4.90099501,   -5.85198506, -105.79346521, -199.        ,\n",
      "       -100.        , -100.        , -100.        , -100.        ,\n",
      "         -3.940399  , -103.90099501, -104.85198506, -105.79346521,\n",
      "       -204.73553056, -297.01      , -199.        , -199.        ,\n",
      "       -199.        , -100.        ,   -4.90099501, -104.85198506,\n",
      "       -107.64827525, -108.5617925 , -207.47617457, -297.01      ,\n",
      "       -199.        , -199.        , -199.        , -100.        ,\n",
      "         -5.85198506,   -6.79346521,   -7.72553056,   -8.64827525,\n",
      "       -108.5617925 , -199.        , -100.        , -100.        ,\n",
      "       -100.        , -100.        ,   -6.79346521,   -7.72553056,\n",
      "         -8.64827525,   -9.5617925 , -109.46617457, -199.        ,\n",
      "       -100.        , -100.        , -100.        , -100.        ,\n",
      "         -7.72553056,   -8.64827525,   -9.5617925 ,  -10.46617457,\n",
      "       -199.        , -199.        , -100.        , -100.        ,\n",
      "       -100.        , -100.        ,   -8.64827525,   -9.5617925 ,\n",
      "        -10.46617457,  -11.36151283, -100.        , -100.        ,\n",
      "       -100.        , -100.        , -100.        , -100.        ]), array([   0.        ,   -1.        ,   -1.99      ,   -2.9701    ,\n",
      "         -3.940399  , -100.        , -100.        , -100.        ,\n",
      "       -100.        , -100.        ,   -1.        ,   -1.99      ,\n",
      "         -2.9701    ,   -3.940399  , -103.90099501, -199.        ,\n",
      "       -100.        , -100.        , -100.        , -100.        ,\n",
      "         -1.99      ,   -2.9701    ,   -3.940399  ,   -4.90099501,\n",
      "       -104.85198506, -199.        , -100.        , -100.        ,\n",
      "       -100.        , -100.        ,   -2.9701    ,   -3.940399  ,\n",
      "         -4.90099501,   -5.85198506, -105.79346521, -199.        ,\n",
      "       -100.        , -100.        , -100.        , -100.        ,\n",
      "         -3.940399  , -103.90099501, -104.85198506, -105.79346521,\n",
      "       -204.73553056, -297.01      , -199.        , -199.        ,\n",
      "       -199.        , -100.        ,   -4.90099501, -104.85198506,\n",
      "       -107.64827525, -108.5617925 , -207.47617457, -297.01      ,\n",
      "       -199.        , -199.        , -199.        , -100.        ,\n",
      "         -5.85198506,   -6.79346521,   -7.72553056,   -8.64827525,\n",
      "       -108.5617925 , -199.        , -100.        , -100.        ,\n",
      "       -100.        , -100.        ,   -6.79346521,   -7.72553056,\n",
      "         -8.64827525,   -9.5617925 , -109.46617457, -199.        ,\n",
      "       -100.        , -100.        , -100.        , -100.        ,\n",
      "         -7.72553056,   -8.64827525,   -9.5617925 ,  -10.46617457,\n",
      "       -110.36151283, -199.        , -100.        , -100.        ,\n",
      "       -100.        , -100.        ,   -8.64827525,   -9.5617925 ,\n",
      "        -10.46617457,  -11.36151283,  -12.2478977 , -100.        ,\n",
      "       -100.        , -100.        , -100.        , -100.        ]), array([   0.        ,   -1.        ,   -1.99      ,   -2.9701    ,\n",
      "         -3.940399  ,   -4.90099501, -100.        , -100.        ,\n",
      "       -100.        , -100.        ,   -1.        ,   -1.99      ,\n",
      "         -2.9701    ,   -3.940399  , -103.90099501, -104.85198506,\n",
      "       -100.        , -100.        , -100.        , -100.        ,\n",
      "         -1.99      ,   -2.9701    ,   -3.940399  ,   -4.90099501,\n",
      "       -104.85198506, -199.        , -100.        , -100.        ,\n",
      "       -100.        , -100.        ,   -2.9701    ,   -3.940399  ,\n",
      "         -4.90099501,   -5.85198506, -105.79346521, -199.        ,\n",
      "       -100.        , -100.        , -100.        , -100.        ,\n",
      "         -3.940399  , -103.90099501, -104.85198506, -105.79346521,\n",
      "       -204.73553056, -297.01      , -199.        , -199.        ,\n",
      "       -199.        , -100.        ,   -4.90099501, -104.85198506,\n",
      "       -107.64827525, -108.5617925 , -207.47617457, -297.01      ,\n",
      "       -199.        , -199.        , -199.        , -100.        ,\n",
      "         -5.85198506,   -6.79346521,   -7.72553056,   -8.64827525,\n",
      "       -108.5617925 , -199.        , -100.        , -100.        ,\n",
      "       -100.        , -100.        ,   -6.79346521,   -7.72553056,\n",
      "         -8.64827525,   -9.5617925 , -109.46617457, -199.        ,\n",
      "       -100.        , -100.        , -100.        , -100.        ,\n",
      "         -7.72553056,   -8.64827525,   -9.5617925 ,  -10.46617457,\n",
      "       -110.36151283, -199.        , -100.        , -100.        ,\n",
      "       -100.        , -100.        ,   -8.64827525,   -9.5617925 ,\n",
      "        -10.46617457,  -11.36151283,  -12.2478977 ,  -13.12541872,\n",
      "       -100.        , -100.        , -100.        , -100.        ]), array([   0.        ,   -1.        ,   -1.99      ,   -2.9701    ,\n",
      "         -3.940399  ,   -4.90099501,   -5.85198506, -100.        ,\n",
      "       -100.        , -100.        ,   -1.        ,   -1.99      ,\n",
      "         -2.9701    ,   -3.940399  , -103.90099501, -104.85198506,\n",
      "         -6.79346521, -100.        , -100.        , -100.        ,\n",
      "         -1.99      ,   -2.9701    ,   -3.940399  ,   -4.90099501,\n",
      "       -104.85198506, -107.64827525,   -7.72553056, -100.        ,\n",
      "       -100.        , -100.        ,   -2.9701    ,   -3.940399  ,\n",
      "         -4.90099501,   -5.85198506, -105.79346521, -108.5617925 ,\n",
      "         -8.64827525, -100.        , -100.        , -100.        ,\n",
      "         -3.940399  , -103.90099501, -104.85198506, -105.79346521,\n",
      "       -204.73553056, -207.47617457, -108.5617925 , -199.        ,\n",
      "       -199.        , -100.        ,   -4.90099501, -104.85198506,\n",
      "       -107.64827525, -108.5617925 , -207.47617457, -297.01      ,\n",
      "       -199.        , -199.        , -199.        , -100.        ,\n",
      "         -5.85198506,   -6.79346521,   -7.72553056,   -8.64827525,\n",
      "       -108.5617925 , -199.        , -100.        , -100.        ,\n",
      "       -100.        , -100.        ,   -6.79346521,   -7.72553056,\n",
      "         -8.64827525,   -9.5617925 , -109.46617457, -199.        ,\n",
      "       -100.        , -100.        , -100.        , -100.        ,\n",
      "         -7.72553056,   -8.64827525,   -9.5617925 ,  -10.46617457,\n",
      "       -110.36151283, -112.99416454, -100.        , -100.        ,\n",
      "       -100.        , -100.        ,   -8.64827525,   -9.5617925 ,\n",
      "        -10.46617457,  -11.36151283,  -12.2478977 ,  -13.12541872,\n",
      "        -13.99416454, -100.        , -100.        , -100.        ]), array([   0.        ,   -1.        ,   -1.99      ,   -2.9701    ,\n",
      "         -3.940399  ,   -4.90099501,   -5.85198506,   -6.79346521,\n",
      "       -100.        , -100.        ,   -1.        ,   -1.99      ,\n",
      "         -2.9701    ,   -3.940399  , -103.90099501, -104.85198506,\n",
      "         -6.79346521,   -7.72553056, -100.        , -100.        ,\n",
      "         -1.99      ,   -2.9701    ,   -3.940399  ,   -4.90099501,\n",
      "       -104.85198506, -107.64827525,   -7.72553056,   -8.64827525,\n",
      "       -100.        , -100.        ,   -2.9701    ,   -3.940399  ,\n",
      "         -4.90099501,   -5.85198506, -105.79346521, -108.5617925 ,\n",
      "         -8.64827525,   -9.5617925 , -100.        , -100.        ,\n",
      "         -3.940399  , -103.90099501, -104.85198506, -105.79346521,\n",
      "       -204.73553056, -207.47617457, -108.5617925 , -109.46617457,\n",
      "       -199.        , -100.        ,   -4.90099501, -104.85198506,\n",
      "       -107.64827525, -108.5617925 , -207.47617457, -297.01      ,\n",
      "       -199.        , -199.        , -199.        , -100.        ,\n",
      "         -5.85198506,   -6.79346521,   -7.72553056,   -8.64827525,\n",
      "       -108.5617925 , -199.        , -100.        , -100.        ,\n",
      "       -100.        , -100.        ,   -6.79346521,   -7.72553056,\n",
      "         -8.64827525,   -9.5617925 , -109.46617457, -199.        ,\n",
      "       -100.        , -100.        , -100.        , -100.        ,\n",
      "         -7.72553056,   -8.64827525,   -9.5617925 ,  -10.46617457,\n",
      "       -110.36151283, -112.99416454,  -14.85422289, -100.        ,\n",
      "       -100.        , -100.        ,   -8.64827525,   -9.5617925 ,\n",
      "        -10.46617457,  -11.36151283,  -12.2478977 ,  -13.12541872,\n",
      "        -13.99416454,  -14.85422289, -100.        , -100.        ]), array([   0.        ,   -1.        ,   -1.99      ,   -2.9701    ,\n",
      "         -3.940399  ,   -4.90099501,   -5.85198506,   -6.79346521,\n",
      "         -7.72553056, -100.        ,   -1.        ,   -1.99      ,\n",
      "         -2.9701    ,   -3.940399  , -103.90099501, -104.85198506,\n",
      "         -6.79346521,   -7.72553056,   -8.64827525, -100.        ,\n",
      "         -1.99      ,   -2.9701    ,   -3.940399  ,   -4.90099501,\n",
      "       -104.85198506, -107.64827525,   -7.72553056,   -8.64827525,\n",
      "         -9.5617925 , -100.        ,   -2.9701    ,   -3.940399  ,\n",
      "         -4.90099501,   -5.85198506, -105.79346521, -108.5617925 ,\n",
      "         -8.64827525,   -9.5617925 ,  -10.46617457, -100.        ,\n",
      "         -3.940399  , -103.90099501, -104.85198506, -105.79346521,\n",
      "       -204.73553056, -207.47617457, -108.5617925 , -109.46617457,\n",
      "       -110.36151283, -100.        ,   -4.90099501, -104.85198506,\n",
      "       -107.64827525, -108.5617925 , -207.47617457, -297.01      ,\n",
      "       -199.        , -199.        , -199.        , -100.        ,\n",
      "         -5.85198506,   -6.79346521,   -7.72553056,   -8.64827525,\n",
      "       -108.5617925 , -199.        , -100.        , -100.        ,\n",
      "       -100.        , -100.        ,   -6.79346521,   -7.72553056,\n",
      "         -8.64827525,   -9.5617925 , -109.46617457, -115.54862385,\n",
      "        -15.70568066, -100.        , -100.        , -100.        ,\n",
      "         -7.72553056,   -8.64827525,   -9.5617925 ,  -10.46617457,\n",
      "       -110.36151283, -112.99416454,  -14.85422289,  -15.70568066,\n",
      "       -100.        , -100.        ,   -8.64827525,   -9.5617925 ,\n",
      "        -10.46617457,  -11.36151283,  -12.2478977 ,  -13.12541872,\n",
      "        -13.99416454,  -14.85422289,  -15.70568066, -100.        ]), array([   0.        ,   -1.        ,   -1.99      ,   -2.9701    ,\n",
      "         -3.940399  ,   -4.90099501,   -5.85198506,   -6.79346521,\n",
      "         -7.72553056,   -8.64827525,   -1.        ,   -1.99      ,\n",
      "         -2.9701    ,   -3.940399  , -103.90099501, -104.85198506,\n",
      "         -6.79346521,   -7.72553056,   -8.64827525,   -9.5617925 ,\n",
      "         -1.99      ,   -2.9701    ,   -3.940399  ,   -4.90099501,\n",
      "       -104.85198506, -107.64827525,   -7.72553056,   -8.64827525,\n",
      "         -9.5617925 ,  -10.46617457,   -2.9701    ,   -3.940399  ,\n",
      "         -4.90099501,   -5.85198506, -105.79346521, -108.5617925 ,\n",
      "         -8.64827525,   -9.5617925 ,  -10.46617457,  -11.36151283,\n",
      "         -3.940399  , -103.90099501, -104.85198506, -105.79346521,\n",
      "       -204.73553056, -207.47617457, -108.5617925 , -109.46617457,\n",
      "       -110.36151283,  -12.2478977 ,   -4.90099501, -104.85198506,\n",
      "       -107.64827525, -108.5617925 , -207.47617457, -215.21930624,\n",
      "       -116.38313762, -115.54862385, -112.99416454,  -13.12541872,\n",
      "         -5.85198506,   -6.79346521,   -7.72553056,   -8.64827525,\n",
      "       -108.5617925 , -116.38313762,  -16.54862385,  -15.70568066,\n",
      "        -14.85422289,  -13.99416454,   -6.79346521,   -7.72553056,\n",
      "         -8.64827525,   -9.5617925 , -109.46617457, -115.54862385,\n",
      "        -15.70568066,  -16.54862385,  -15.70568066,  -14.85422289,\n",
      "         -7.72553056,   -8.64827525,   -9.5617925 ,  -10.46617457,\n",
      "       -110.36151283, -112.99416454,  -14.85422289,  -15.70568066,\n",
      "        -16.54862385,  -15.70568066,   -8.64827525,   -9.5617925 ,\n",
      "        -10.46617457,  -11.36151283,  -12.2478977 ,  -13.12541872,\n",
      "        -13.99416454,  -14.85422289,  -15.70568066,  -16.54862385]), array([   0.        ,   -1.        ,   -1.99      ,   -2.9701    ,\n",
      "         -3.940399  ,   -4.90099501,   -5.85198506,   -6.79346521,\n",
      "         -7.72553056,   -8.64827525,   -1.        ,   -1.99      ,\n",
      "         -2.9701    ,   -3.940399  , -103.90099501, -104.85198506,\n",
      "         -6.79346521,   -7.72553056,   -8.64827525,   -9.5617925 ,\n",
      "         -1.99      ,   -2.9701    ,   -3.940399  ,   -4.90099501,\n",
      "       -104.85198506, -107.64827525,   -7.72553056,   -8.64827525,\n",
      "         -9.5617925 ,  -10.46617457,   -2.9701    ,   -3.940399  ,\n",
      "         -4.90099501,   -5.85198506, -105.79346521, -108.5617925 ,\n",
      "         -8.64827525,   -9.5617925 ,  -10.46617457,  -11.36151283,\n",
      "         -3.940399  , -103.90099501, -104.85198506, -105.79346521,\n",
      "       -204.73553056, -207.47617457, -108.5617925 , -109.46617457,\n",
      "       -110.36151283,  -12.2478977 ,   -4.90099501, -104.85198506,\n",
      "       -107.64827525, -108.5617925 , -207.47617457, -215.21930624,\n",
      "       -116.38313762, -115.54862385, -112.99416454,  -13.12541872,\n",
      "         -5.85198506,   -6.79346521,   -7.72553056,   -8.64827525,\n",
      "       -108.5617925 , -116.38313762,  -16.54862385,  -15.70568066,\n",
      "        -14.85422289,  -13.99416454,   -6.79346521,   -7.72553056,\n",
      "         -8.64827525,   -9.5617925 , -109.46617457, -115.54862385,\n",
      "        -15.70568066,  -16.54862385,  -15.70568066,  -14.85422289,\n",
      "         -7.72553056,   -8.64827525,   -9.5617925 ,  -10.46617457,\n",
      "       -110.36151283, -112.99416454,  -14.85422289,  -15.70568066,\n",
      "        -16.54862385,  -15.70568066,   -8.64827525,   -9.5617925 ,\n",
      "        -10.46617457,  -11.36151283,  -12.2478977 ,  -13.12541872,\n",
      "        -13.99416454,  -14.85422289,  -15.70568066,  -16.54862385])]\n"
     ]
    }
   ],
   "source": [
    "values_pi, _ = policy_iteration(gridworld)\n",
    "print(values_pi)"
   ]
  },
  {
   "cell_type": "code",
   "execution_count": 35,
   "id": "cd691fb1",
   "metadata": {
    "ExecuteTime": {
     "end_time": "2023-03-14T00:56:52.398689Z",
     "start_time": "2023-03-14T00:56:52.160690Z"
    }
   },
   "outputs": [
    {
     "data": {
      "image/png": "[encoded data removed]",
      "text/plain": [
       "<Figure size 800x550 with 1 Axes>"
      ]
     },
     "metadata": {},
     "output_type": "display_data"
    }
   ],
   "source": [
    "plot_lines([compute_subopt(values_pi, solver.v)], [\"Subopt of $V^{\\pi_t}$\"], [\"Iteration\", \"Subopt\"], \"figs\", \"VI.pdf\", show = True)"
   ]
  },
  {
   "cell_type": "markdown",
   "id": "f0f59f72",
   "metadata": {},
   "source": [
    "### Compare with Value Iteration"
   ]
  },
  {
   "cell_type": "code",
   "execution_count": 36,
   "id": "ffe5e4ea",
   "metadata": {
    "ExecuteTime": {
     "end_time": "2023-03-14T00:56:52.968686Z",
     "start_time": "2023-03-14T00:56:52.399687Z"
    }
   },
   "outputs": [
    {
     "data": {
      "image/png": "[encoded data removed]",
      "text/plain": [
       "<Figure size 800x550 with 1 Axes>"
      ]
     },
     "metadata": {},
     "output_type": "display_data"
    }
   ],
   "source": [
    "plot_log_lines([compute_subopt(values, solver.v), compute_subopt(values_pi, solver.v)], \n",
    "               [\"Value Iteration\", \"Policy Iteration\"], \n",
    "               [\"Iteration\", \"Subopt\"], \"figs\", \"VIvsPI.pdf\", show = True)"
   ]
  },
  {
   "cell_type": "markdown",
   "id": "db0b2058",
   "metadata": {},
   "source": [
    "***Questions :*** \n",
    "- Which algorithm converges faster ?\n",
    "- Is it theoretically expected ? Answer listing the expected number of iterations needed for VI and PI to converge ?\n"
   ]
  },
  {
   "cell_type": "markdown",
   "id": "fd941be6",
   "metadata": {},
   "source": [
    "***Answers***"
   ]
  },
  {
   "cell_type": "markdown",
   "id": "f1a4abde",
   "metadata": {},
   "source": [
    "The Policy Iteration algorithm converges faster."
   ]
  },
  {
   "cell_type": "markdown",
   "id": "e597341b",
   "metadata": {},
   "source": [
    "***Theory Questions*** \n",
    "- Prove the policy improvement theorem.\n",
    "- Prove that the Bellman operator is monotone elementwise. That is if $V > V'$, then for any $\\pi$, $T_{\\pi}(V) > T_{\\pi}(V')$."
   ]
  },
  {
   "cell_type": "markdown",
   "id": "3ce2eeb4",
   "metadata": {},
   "source": [
    "***Answers***"
   ]
  },
  {
   "cell_type": "markdown",
   "id": "bbb94b14",
   "metadata": {},
   "source": []
  },
  {
   "cell_type": "markdown",
   "id": "b00d1641",
   "metadata": {},
   "source": [
    "# Ex 3: Modified Policy Iteration [25 pts.]"
   ]
  },
  {
   "cell_type": "markdown",
   "id": "69202e2f",
   "metadata": {},
   "source": [
    "In this cell you will code and run Modified Value Iteration, that follows this pseudocode:\n",
    "- $\\pi_{k+1} = \\mathcal{G}(V_k)$\n",
    "- $V_{k+1} = T^m_{\\pi_{k+1}}(V_k)$\n",
    "\n",
    "In the implementation, we will use also the variable $Q$ as in the previous implementation of VI and PI for convenience of implementation."
   ]
  },
  {
   "cell_type": "markdown",
   "id": "1ef4cefd",
   "metadata": {},
   "source": [
    "**Questions**\n",
    "\n",
    "Which value of $m$ recovers policy iteration ?\n",
    "Which value of $m$ recovers value iteration ?"
   ]
  },
  {
   "cell_type": "markdown",
   "id": "bee3dbe6",
   "metadata": {},
   "source": [
    "***Answers***"
   ]
  },
  {
   "cell_type": "markdown",
   "id": "c91df114",
   "metadata": {},
   "source": []
  },
  {
   "cell_type": "markdown",
   "id": "dba68c07",
   "metadata": {},
   "source": [
    "First, write a function that applies the Bellman evaluation operator $m$ times"
   ]
  },
  {
   "cell_type": "code",
   "execution_count": 20,
   "id": "39f4b211",
   "metadata": {
    "ExecuteTime": {
     "end_time": "2023-03-14T00:56:53.095723Z",
     "start_time": "2023-03-14T00:56:52.969686Z"
    }
   },
   "outputs": [],
   "source": [
    "def policy_operator_m_times(pi, m, env, v, q):\n",
    "    \"\"\"Implementation of partial policy evaluation through applying m times the Bellman operator\n",
    "    Args:\n",
    "        pi: a policy\n",
    "        env: environment\n",
    "        tol: a scalar to dermerminate whether the policy evaluation convergences\n",
    "        v: initial value vector\n",
    "        q: initial state action value vector\n",
    "    Returns:\n",
    "        v: an array with the values of the actions chosen\n",
    "        q: an array with the q values    \n",
    "    \"\"\"\n",
    "    i = 0\n",
    "    while i < ???:\n",
    "        for a in range(env.n_actions):\n",
    "            q[:, a] = ???\n",
    "        for s in range(env.n_states):\n",
    "            v[s] = ???\n",
    "        i = i + 1\n",
    "    return v, q"
   ]
  },
  {
   "cell_type": "markdown",
   "id": "740d6d8d",
   "metadata": {},
   "source": [
    "At this point, using the function `get_greedy_policy` implemented for PI you are ready to implement Modified Policy Iteration !"
   ]
  },
  {
   "cell_type": "code",
   "execution_count": 21,
   "id": "26f61e63",
   "metadata": {
    "ExecuteTime": {
     "end_time": "2023-03-14T00:56:53.220688Z",
     "start_time": "2023-03-14T00:56:53.097686Z"
    }
   },
   "outputs": [],
   "source": [
    "def modified_policy_iteration(env, m, tol=1e-10):\n",
    "    \"\"\"Implementation of modified policy iteration\n",
    "    Args:\n",
    "        env: environment\n",
    "        tol: a scalar to dermerminate whether the algorithm convergences\n",
    "    Returns:\n",
    "        vs: value functions at each iteration (list)\n",
    "    \"\"\"\n",
    "    vs = []\n",
    "    policies = []\n",
    "    v = np.zeros(env.n_states)\n",
    "    q = np.zeros((env.n_states, env.n_actions))\n",
    "    pi = np.zeros(env.n_states, dtype=int)\n",
    "    while True:\n",
    "        v_old = np.copy(v)\n",
    "        pi = get_greedy_policy(q)\n",
    "        v, q = ???\n",
    "        policies.append(???)\n",
    "        vs.append(v)\n",
    "        if np.linalg.norm(v - v_old) < tol:\n",
    "            break\n",
    "    return vs,policies"
   ]
  },
  {
   "cell_type": "markdown",
   "id": "b0c4c515",
   "metadata": {},
   "source": [
    "Now run modified policy iteration for different values of $m$ for example between $1$ and $10$. "
   ]
  },
  {
   "cell_type": "code",
   "execution_count": 22,
   "id": "fc31ccd2",
   "metadata": {
    "ExecuteTime": {
     "end_time": "2023-03-14T00:57:06.759601Z",
     "start_time": "2023-03-14T00:56:53.221722Z"
    }
   },
   "outputs": [],
   "source": [
    "m_values = [\"1\", \"2\", \"3\", \"5\", \"10\", \"20\"]\n",
    "to_plot = []\n",
    "for m in m_values:\n",
    "    m = int(m)\n",
    "    _, policies_mpi=modified_policy_iteration(gridworld, m)\n",
    "    values_mpi = evaluate_policy_sequence(policies_mpi, gridworld)\n",
    "    to_plot.append(compute_subopt(values_mpi, solver.v))"
   ]
  },
  {
   "cell_type": "code",
   "execution_count": 23,
   "id": "6d3dd3c9",
   "metadata": {
    "ExecuteTime": {
     "end_time": "2023-03-14T00:57:07.313599Z",
     "start_time": "2023-03-14T00:57:06.761599Z"
    }
   },
   "outputs": [
    {
     "data": {
      "image/png": "[encoded data removed]",
      "text/plain": [
       "<Figure size 576x396 with 1 Axes>"
      ]
     },
     "metadata": {},
     "output_type": "display_data"
    }
   ],
   "source": [
    "plot_log_lines(to_plot, \n",
    "           m_values, \n",
    "           [\"Iteration\", \"Subopt\"], \"figs\", \"MPI.pdf\", show = True)"
   ]
  },
  {
   "cell_type": "markdown",
   "id": "0f1064cc",
   "metadata": {},
   "source": [
    "**Questions** \n",
    "- How does the value of $m$ affect convergence ?\n",
    "- Which is the cost per iteration of Modified Policy Iteration ?\n",
    "- Which is the cost per iteration of Policy Iteration implemented with Option 2 in the slides ?"
   ]
  },
  {
   "cell_type": "markdown",
   "id": "54dbec0f",
   "metadata": {},
   "source": [
    "***Answers***"
   ]
  },
  {
   "cell_type": "markdown",
   "id": "690a0128",
   "metadata": {},
   "source": []
  },
  {
   "cell_type": "markdown",
   "id": "a59265d9",
   "metadata": {},
   "source": [
    "# Ex 4: Q-Learning [15 pts.]"
   ]
  },
  {
   "cell_type": "markdown",
   "id": "7252fd60",
   "metadata": {},
   "source": [
    "Now, we are ready to tackle the problem in the model free setting. For technical reason, we focus on the finite horizon setting in this part and we compare two exploration strategies.\n",
    "1. **$\\varepsilon$-greedy** (Watkins, Christopher John Cornish Hellaby. “Learning from Delayed Rewards.” PhD Thesis, King’s College, Cambridge United Kingdom, 1989.)\n",
    "  - Initialize $V_h(x) \\leftarrow H, Q_h(x,a) \\leftarrow H$ for all $(x,a,h)\\in \\mathcal{S} \\times \\mathcal{A} \\times [H], V_{H}(x) \\leftarrow 0$ for all $x \\in \\mathcal{S}$  \n",
    "  - For episode $k=1,\\dots,K$ do\n",
    "    - Receive $x_1$\n",
    "    - For step $h=1,\\dots,H$ do\n",
    "      - Sample $b_h \\sim \\text{Bernoulli}(\\varepsilon), \\hat{a}_h \\sim \\text{Uniform}(\\mathcal{A})$\n",
    "      - Take action $a_h \\leftarrow \\left[(1-b_h) \\left(\\underset{a' \\in \\mathcal{A}}{\\text{argmax}}{Q_h(x_h,a')}\\right) + b_h \\hat{a}_h \\right]$ and observe $x_{h+1}$\n",
    "      - $Q_h(x_h,a_h)\\leftarrow (1-\\alpha)Q_h(x_h,a_h) +\\alpha\\left[r_h(x_h,a_h) + V_{h+1}(x_{h+1})\\right]$\n",
    "      - $V_h(x_h)\\leftarrow \\min{\\left\\{H, \\underset{a' \\in \\mathcal{A}}{\\max}{Q_h(x_h,a')}\\right\\}}$\n",
    "2. **UCB bonuses** (Jin, Chi, Zeyuan Allen-Zhu, Sebastien Bubeck, and Michael I Jordan. “Is Q-Learning Provably Efficient?” In Advances in Neural Information Processing Systems, Vol. 31. Curran Associates, Inc., 2018. https://proceedings.neurips.cc/paper/2018/hash/d3b1fb02964aa64e257f9f26a31f72cf-Abstract.html.)\n",
    "  - Initialize $V_h(x) \\leftarrow H, Q_h(x,a) \\leftarrow H$ and $N_h(x,a) \\leftarrow 0$ for all $(x,a,h)\\in \\mathcal{S} \\times \\mathcal{A} \\times [H], V_{H}(x) \\leftarrow 0$ for all $x \\in \\mathcal{S}$  \n",
    "  - For episode $k=1,\\dots,K$ do\n",
    "    - Receive $x_1$\n",
    "    - For step $h=1,\\dots,H$ do\n",
    "      - Take action $a_h \\leftarrow \\underset{a' \\in \\mathcal{A}}{\\text{argmax}}{Q_h(x_h,a')}$ and observe $x_{h+1}$\n",
    "      - $t=N_h(x_h,a_h)\\leftarrow N_h(x_h,a_h) + 1, \\alpha_t = \\frac{H+1}{H+t}$ and $b_t \\leftarrow c\\sqrt{\\frac{H^3}{t}}$\n",
    "      - $Q_h(x_h,a_h)\\leftarrow (1-\\alpha_t)Q_h(x_h,a_h) +\\alpha_t\\left[r_h(x_h,a_h) + V_{h+1}(x_{h+1}) + b_t\\right]$\n",
    "      - $V_h(x_h)\\leftarrow \\min{\\left\\{H, \\underset{a' \\in \\mathcal{A}}{\\max}{Q_h(x_h,a')}\\right\\}}$"
   ]
  },
  {
   "cell_type": "markdown",
   "id": "184330cc",
   "metadata": {},
   "source": [
    "For other technical reason, we also need to rescale the reward between 0 and 1, as done in the following"
   ]
  },
  {
   "cell_type": "code",
   "execution_count": 24,
   "id": "5ff59bfb",
   "metadata": {
    "ExecuteTime": {
     "end_time": "2023-03-14T00:57:07.438599Z",
     "start_time": "2023-03-14T00:57:07.314600Z"
    }
   },
   "outputs": [],
   "source": [
    "reward_mode = 0\n",
    "size = 10\n",
    "gridworld = GridWorldEnvironment(reward_mode, size, prop=0, gamma=gamma)\n",
    "r_max = np.max(gridworld.r)\n",
    "r_min = np.min(gridworld.r)\n",
    "gridworld.r = (gridworld.r - r_min) / (r_max - r_min)"
   ]
  },
  {
   "cell_type": "markdown",
   "id": "b7545ef1",
   "metadata": {},
   "source": [
    "### Q learning with epsilon greedy "
   ]
  },
  {
   "cell_type": "markdown",
   "id": "17117c6d",
   "metadata": {},
   "source": [
    "In this subsection, we implement $Q$ Learning with the simplest possible exploration strategy: $\\epsilon$-greedy."
   ]
  },
  {
   "cell_type": "code",
   "execution_count": 25,
   "id": "3a5b63f2",
   "metadata": {
    "ExecuteTime": {
     "end_time": "2023-03-14T00:57:07.549598Z",
     "start_time": "2023-03-14T00:57:07.439601Z"
    }
   },
   "outputs": [],
   "source": [
    "def argmax_with_random_tie_breaking(b):\n",
    "    return np.random.choice(np.where(b == b.max())[0])"
   ]
  },
  {
   "cell_type": "code",
   "execution_count": 26,
   "id": "b6e5f11f",
   "metadata": {
    "ExecuteTime": {
     "end_time": "2023-03-14T00:59:43.054854Z",
     "start_time": "2023-03-14T00:57:07.551597Z"
    }
   },
   "outputs": [],
   "source": [
    "def q_learning_epsilon_greedy(K: int = 100000, H: int = 20, epsilon: float = 0.1, alpha: float = 0.1) -> List[float]:\n",
    "    \"\"\"\n",
    "    Function implementing the epsilon-greedy Q-learning algorithm.\n",
    "\n",
    "    :param K: Number of episodes, positive int\n",
    "    :param H: Number of steps per episode, positive int\n",
    "    :param epsilon: Algorithm hyperparameter, exploration probability, float in [0, 1]\n",
    "    :param alpha: Algorithm hyperparameter, Q update weight, float in [0, 1]\n",
    "\n",
    "    :return: reward after each step, list of K * H floats\n",
    "    \"\"\"\n",
    "    # Initialize tabular records\n",
    "    rewards = []\n",
    "    Q = H * np.ones((H, gridworld.n_states, gridworld.n_actions))\n",
    "    V = H * np.ones((H + 1, gridworld.n_states))\n",
    "    V[H, :] = 0\n",
    "\n",
    "    for k in range(K):  # Episode loop\n",
    "        state = 99  # Initial state\n",
    "        for h in range(H):  # Step loop\n",
    "            explore = np.random.binomial(2, p=epsilon)\n",
    "            if explore:\n",
    "                # Exploration: With probability epsilon take a random action\n",
    "                a = np.random.choice(gridworld.n_actions)\n",
    "            else:\n",
    "                # Exploitation: With probability 1 - epsilon take one of the optimal actions for the current state\n",
    "                a = argmax_with_random_tie_breaking(Q[h, state, :])\n",
    "\n",
    "            # Get reward for action\n",
    "            rewards.append(gridworld.r[state, a])\n",
    "\n",
    "            # Get the new state according to the transition dynamics\n",
    "            new_state = np.random.choice(gridworld.n_states,\n",
    "                                         p=gridworld.T[a][state])\n",
    "\n",
    "            # Update Q according to the algorithm\n",
    "            Q[h, state, a] = ???\n",
    "\n",
    "            # Update V as the Q-value of the optimal actions for the current state\n",
    "            V[h, state] = np.min([np.max(Q[h, state, :]), H])\n",
    "\n",
    "            state = new_state\n",
    "    return rewards"
   ]
  },
  {
   "cell_type": "code",
   "execution_count": 27,
   "id": "07817512",
   "metadata": {
    "ExecuteTime": {
     "end_time": "2023-03-14T00:59:43.293855Z",
     "start_time": "2023-03-14T00:59:43.055853Z"
    }
   },
   "outputs": [],
   "source": [
    "reward_eps_greedy = q_learning_epsilon_greedy()  # You can play around with the arguments if you like\n",
    "cumulative_reward_eps_greedy = np.cumsum(reward_eps_greedy)"
   ]
  },
  {
   "cell_type": "markdown",
   "id": "a2e809e2",
   "metadata": {},
   "source": [
    "### Q-Learning with bonuses"
   ]
  },
  {
   "cell_type": "markdown",
   "id": "c49d6483",
   "metadata": {},
   "source": [
    "In this subsection, you are asked to implement an optimistic version of  Q Learning suggested in (Jin et al., 2018)"
   ]
  },
  {
   "cell_type": "code",
   "execution_count": 28,
   "id": "ff556a7b",
   "metadata": {
    "ExecuteTime": {
     "end_time": "2023-03-14T01:02:45.032943Z",
     "start_time": "2023-03-14T00:59:43.294856Z"
    }
   },
   "outputs": [],
   "source": [
    "def q_learning_ucb_bonuses(K: int = 100000, H: int = 20, c: float = 0.0001) -> List[float]:\n",
    "    \"\"\"\n",
    "    Function implementing the Q-learning with UCB bonuses algorithm.\n",
    "\n",
    "    :param K: Number of episodes, positive int\n",
    "    :param H: Number of steps per episode, positive int\n",
    "    :param c: Algorithm hyperparameter, constant which scales the bonuses, positive float\n",
    "\n",
    "    :return: reward after each step, list of K * H floats\n",
    "    \"\"\"\n",
    "\n",
    "    # Initialize tabular records\n",
    "    rewards = []\n",
    "    Q = H * np.ones((H, gridworld.n_states, gridworld.n_actions))\n",
    "    V = H * np.ones((H + 1, gridworld.n_states))\n",
    "    V[H, :] = 0\n",
    "    N = np.ones((H, gridworld.n_states, gridworld.n_actions))\n",
    "\n",
    "    for k in range(K):  # Episode loop\n",
    "        state = 99  # Initial state\n",
    "        for h in range(H):  # Step loop\n",
    "            # Take one of the optimal actions for the current state\n",
    "            a = argmax_with_random_tie_breaking(Q[h, state, :])\n",
    "            rewards.append(gridworld.r[state, a])\n",
    "\n",
    "            # Record that we visited this state-action pair (again)\n",
    "            N[h, state, a] += 1\n",
    "\n",
    "            # Get the new state according to the transition dynamics\n",
    "            new_state = np.random.choice(gridworld.n_states,\n",
    "                                         p=gridworld.T[a][state])\n",
    "\n",
    "            # Calculate the UCB bonus\n",
    "            bonus = c * np.sqrt(H ** 3 / N[h, state, a])\n",
    "\n",
    "            # Calculate the adaptive alpha according to the algorithm\n",
    "            alpha = (H + 1) / (H + N[h, state, a])\n",
    "\n",
    "            # Update Q according to the algorithm\n",
    "            Q[h, state, a] = ???\n",
    "\n",
    "            # Update V as the Q-value of the optimal actions for the current state\n",
    "            V[h, state] = np.max(Q[h, state, :])\n",
    "            V[h, state] = np.clip(V[h, state], 0, H)\n",
    "\n",
    "            state = new_state\n",
    "\n",
    "    return rewards"
   ]
  },
  {
   "cell_type": "code",
   "execution_count": 29,
   "id": "ca3125a5",
   "metadata": {
    "ExecuteTime": {
     "end_time": "2023-03-14T01:02:45.254892Z",
     "start_time": "2023-03-14T01:02:45.033927Z"
    }
   },
   "outputs": [],
   "source": [
    "reward_UCB = q_learning_ucb_bonuses()  # You can play around with the arguments if you like\n",
    "cumulative_reward_UCB = np.cumsum(reward_UCB)"
   ]
  },
  {
   "cell_type": "markdown",
   "id": "9d470164",
   "metadata": {},
   "source": [
    "### Comparison of exploration strategies"
   ]
  },
  {
   "cell_type": "code",
   "execution_count": 32,
   "id": "b234b79f",
   "metadata": {
    "ExecuteTime": {
     "end_time": "2023-03-14T01:02:48.908004Z",
     "start_time": "2023-03-14T01:02:45.256893Z"
    }
   },
   "outputs": [
    {
     "data": {
      "image/png": "[encoded data removed]",
      "text/plain": [
       "<Figure size 576x396 with 1 Axes>"
      ]
     },
     "metadata": {},
     "output_type": "display_data"
    }
   ],
   "source": [
    "plot_lines(\n",
    "    [cumulative_reward_eps_greedy, cumulative_reward_UCB],\n",
    "    [r\"$\\epsilon$-greedy\", \"UCB\"],\n",
    "    [\"Iteration\", \"Reward collected so far\"],\n",
    "    \"figs\",\n",
    "    \"ucbvseps\",\n",
    "    show=False\n",
    ")"
   ]
  },
  {
   "cell_type": "markdown",
   "id": "9a1249fb",
   "metadata": {},
   "source": [
    "**Question:** You are given an environment with $N$ states linked in a chain, i.e. from every state except the two endpoints there are two possible actions going right or go back to the first state in the chain. For the endpoints the second action is to stay in the same state. The reward is only 1 if you are in the rightmost state and stay there, otherwise 0. What is the probability that the $\\varepsilon$-greedy algorithm will have a positive reward after $H$ steps in the first episode, if the chosen initial state is the leftmost state in the chain?"
   ]
  },
  {
   "cell_type": "markdown",
   "id": "598be158",
   "metadata": {},
   "source": []
  },
  {
   "cell_type": "markdown",
   "id": "426724d8",
   "metadata": {},
   "source": [
    "**Question:** Does the empirical result match the theoretical result described in (Jin et al. 2018) ? Try to answer this question after reading their Appendix A and looking at their Table 1 for the algorithm they call UCB-H."
   ]
  },
  {
   "cell_type": "markdown",
   "id": "b8de834a",
   "metadata": {},
   "source": []
  },
  {
   "cell_type": "markdown",
   "id": "97a704b0",
   "metadata": {},
   "source": [
    "## Monte Carlo (MC) and Time Differences (TD) ( * Question ) [25 points]\n",
    "\n",
    "Disclaimer: The TA can not help you on this part of the notebook."
   ]
  },
  {
   "cell_type": "code",
   "execution_count": null,
   "id": "e19782a7",
   "metadata": {},
   "outputs": [],
   "source": [
    "def generate_episode(policy: List, H: int, initial_state: int):\n",
    "    \"\"\"\n",
    "    Generate an episode using the given policy.\n",
    "\n",
    "    :param policy: A list where each element is a probability distribution over actions for a state.\n",
    "    :param H: Maximum number of steps in the episode.\n",
    "    :param initial_state: Starting state.\n",
    "\n",
    "    :return: A list of (state, action, reward) tuples.\n",
    "    \"\"\"\n",
    "    episode = []\n",
    "    state = initial_state\n",
    "    for _ in range(H):\n",
    "        action = policy[state]\n",
    "        reward = gridworld.r[state, action]\n",
    "        next_state = np.random.choice(gridworld.n_states, p=gridworld.T[action][state])\n",
    "        episode.append((state, action, reward))\n",
    "        state = next_state\n",
    "    return episode\n",
    "\n",
    "def mc_policy_evaluation_with_linear_approx(\n",
    "    policy: List[np.ndarray], \n",
    "    phi: np.ndarray,\n",
    "    K: int = 1000, \n",
    "    H: int = 20, \n",
    "    gamma: float = 0.99, \n",
    "    alpha: float = 0.01\n",
    ") -> np.ndarray:\n",
    "    \"\"\"\n",
    "    Monte Carlo policy evaluation with linear function approximation.\n",
    "\n",
    "    :param policy: A list where each element is a probability distribution over actions for a state.\n",
    "    :param K: Number of episodes.\n",
    "    :param H: Maximum number of steps per episode.\n",
    "    :param gamma: Discount factor.\n",
    "    :param alpha: Learning rate for gradient descent.\n",
    "\n",
    "    :return: The learned weight vector theta.\n",
    "    \"\"\"\n",
    "    # Feature matrix: Each state is represented by a one-hot vector\n",
    "    n_states = gridworld.n_states\n",
    "\n",
    "    # Initialize weight vector theta\n",
    "    theta = np.zeros(n_states)\n",
    "\n",
    "    for _ in tqdm(range(K)):  # Episode loop\n",
    "        episode = generate_episode(policy, H, initial_state=99)  # Generate episode\n",
    "        G = 0  # Return\n",
    "\n",
    "        # Backward pass through the episode\n",
    "        for t in range(len(episode) - 1, -1, -1):\n",
    "            state, _, reward = episode[t]\n",
    "            G = gamma * G + reward  # Discounted return\n",
    "\n",
    "            # Update theta using gradient descent\n",
    "            phi_s = phi[state]  # Feature vector for the current state\n",
    "            V_hat = np.dot(theta, phi_s)  # Current value estimate\n",
    "            theta += ???  # Gradient descent update\n",
    "\n",
    "    return theta\n"
   ]
  },
  {
   "cell_type": "code",
   "execution_count": null,
   "id": "92cec216",
   "metadata": {},
   "outputs": [],
   "source": [
    "\n",
    "import numpy as np\n",
    "def td_policy_evaluation_with_linear_approx(\n",
    "    policy: List[np.ndarray], \n",
    "    phi: np.ndarray,\n",
    "    K: int = 1000, \n",
    "    H: int = 20, \n",
    "    gamma: float = 0.99, \n",
    "    alpha: float = 0.01\n",
    ") -> np.ndarray:\n",
    "    \"\"\"\n",
    "    Temporal Difference (TD) policy evaluation with linear function approximation.\n",
    "\n",
    "    :param policy: A list where each element is a probability distribution over actions for a state.\n",
    "    :param K: Number of episodes.\n",
    "    :param H: Maximum number of steps per episode.\n",
    "    :param gamma: Discount factor.\n",
    "    :param alpha: Learning rate for gradient descent.\n",
    "\n",
    "    :return: The learned weight vector theta.\n",
    "    \"\"\"\n",
    "    # Feature matrix: Each state is represented by a one-hot vector\n",
    "    n_states = gridworld.n_states\n",
    "\n",
    "    # Initialize weight vector theta\n",
    "    theta = np.zeros(n_states)\n",
    "\n",
    "    for _ in tqdm(range(K)):  # Episode loop\n",
    "        state = 99  # Initial state\n",
    "        for _ in range(H):  # Step loop\n",
    "            # Sample action from policy\n",
    "            action = policy[state]\n",
    "            reward = gridworld.r[state, action]\n",
    "            next_state = np.random.choice(gridworld.n_states, p=gridworld.T[action][state])\n",
    "\n",
    "            # Compute TD target and TD error\n",
    "            phi_s = phi[state]  # Feature vector for current state\n",
    "            phi_s_next = phi[next_state]  # Feature vector for next state\n",
    "            V_s = np.dot(theta, phi_s)  # Current value estimate\n",
    "            V_s_next = np.dot(theta, phi_s_next)  # Next value estimate\n",
    "            td_target = ???  # TD target\n",
    "            td_error = ???  # TD error\n",
    "\n",
    "            # Update theta using gradient descent\n",
    "            theta += ???\n",
    "\n",
    "            # Move to the next state\n",
    "            state = next_state\n",
    "\n",
    "    return theta"
   ]
  },
  {
   "cell_type": "markdown",
   "id": "8f31f3f7",
   "metadata": {},
   "source": [
    "**Case 1:**"
   ]
  },
  {
   "cell_type": "code",
   "execution_count": null,
   "id": "4d161111",
   "metadata": {},
   "outputs": [],
   "source": [
    "\n",
    "\n",
    "_, pi=policy_iteration(gridworld)\n",
    "\n",
    "phi = np.eye(gridworld.n_states)  # Feature matrix (one-hot encoding)\n",
    "# Run Monte Carlo policy evaluation with linear function approximation\n",
    "theta_MC = mc_policy_evaluation_with_linear_approx(pi,phi, K=1000, H=2000, gamma=gridworld.gamma, alpha=1)\n",
    "theta_TD = td_policy_evaluation_with_linear_approx(pi,phi, K=1000, H=2000, gamma=gridworld.gamma, alpha=1)\n",
    "\n",
    "print(np.linalg.norm(theta_MC  - theta_TD))"
   ]
  },
  {
   "cell_type": "markdown",
   "id": "975ac0db",
   "metadata": {},
   "source": [
    "**Case 2:**"
   ]
  },
  {
   "cell_type": "code",
   "execution_count": null,
   "id": "34d71ab7",
   "metadata": {},
   "outputs": [],
   "source": [
    "_, pi=policy_iteration(gridworld)\n",
    "\n",
    "phi = np.eye(gridworld.n_states)  # Feature matrix (one-hot encoding)\n",
    "phi[:50,:]*=0\n",
    "\n",
    "# Run Monte Carlo policy evaluation with linear function approximation\n",
    "theta_MC = mc_policy_evaluation_with_linear_approx(pi,phi, K=1000, H=2000, gamma=gridworld.gamma, alpha=1)\n",
    "theta_TD = td_policy_evaluation_with_linear_approx(pi,phi, K=1000, H=2000, gamma=gridworld.gamma, alpha=1)\n",
    "\n",
    "print(np.linalg.norm(theta_MC  - theta_TD))"
   ]
  },
  {
   "cell_type": "markdown",
   "id": "8679f803",
   "metadata": {},
   "source": [
    "**Questions:** \n",
    "- Does the solution coincide ( up to numerical error ) in Case 1?\n",
    "- Explain your answer writing down the analytical solutions of the optimal solutions of the Monte Carlo and TD optimization problem $\\theta^\\star_{MC}$ and $\\theta^\\star_{TD}$ and argue why these are equal or different in this case. To give this answer you can assume that $\\rho$ is positive everywhere."
   ]
  },
  {
   "cell_type": "markdown",
   "id": "319622a5",
   "metadata": {},
   "source": [
    "**Answers**\n"
   ]
  },
  {
   "cell_type": "markdown",
   "id": "034d6339",
   "metadata": {},
   "source": []
  },
  {
   "cell_type": "markdown",
   "id": "955529c8",
   "metadata": {},
   "source": [
    "**Questions:** \n",
    "- Does the solution coincide ( up to numerical error ) in Case 2?\n",
    "- Explain your answer leveraging the analytical solutions of the optimal solutions of the Monte Carlo and TD optimization problem $\\theta^\\star_{MC}$ and $\\theta^\\star_{TD}$ and argue why these are equal or different in this case."
   ]
  },
  {
   "cell_type": "markdown",
   "id": "74329227",
   "metadata": {},
   "source": []
  }
 ],
 "metadata": {
  "author": "",
  "kernelspec": {
   "display_name": "RL",
   "language": "python",
   "name": "python3"
  },
  "language_info": {
   "codemirror_mode": {
    "name": "ipython",
    "version": 3
   },
   "file_extension": ".py",
   "mimetype": "text/x-python",
   "name": "python",
   "nbconvert_exporter": "python",
   "pygments_lexer": "ipython3",
   "version": "3.11.11"
  },
  "latex_envs": {
   "LaTeX_envs_menu_present": true,
   "autoclose": false,
   "autocomplete": true,
   "bibliofile": "biblio.bib",
   "cite_by": "apalike",
   "current_citInitial": 1,
   "eqLabelWithNumbers": true,
   "eqNumInitial": 1,
   "hotkeys": {
    "equation": "Ctrl-E",
    "itemize": "Ctrl-I"
   },
   "labels_anchors": false,
   "latex_user_defs": false,
   "report_style_numbering": false,
   "user_envs_cfg": false
  },
  "toc": {
   "base_numbering": 1,
   "nav_menu": {},
   "number_sections": true,
   "sideBar": true,
   "skip_h1_title": false,
   "title_cell": "Table of Contents",
   "title_sidebar": "Contents",
   "toc_cell": false,
   "toc_position": {},
   "toc_section_display": true,
   "toc_window_display": false
  },
  "varInspector": {
   "cols": {
    "lenName": 16,
    "lenType": 16,
    "lenVar": 40
   },
   "kernels_config": {
    "python": {
     "delete_cmd_postfix": "",
     "delete_cmd_prefix": "del ",
     "library": "var_list.py",
     "varRefreshCmd": "print(var_dic_list())"
    },
    "r": {
     "delete_cmd_postfix": ") ",
     "delete_cmd_prefix": "rm(",
     "library": "var_list.r",
     "varRefreshCmd": "cat(var_dic_list()) "
    }
   },
   "types_to_exclude": [
    "module",
    "function",
    "builtin_function_or_method",
    "instance",
    "_Feature"
   ],
   "window_display": false
  }
 },
 "nbformat": 4,
 "nbformat_minor": 5
}
